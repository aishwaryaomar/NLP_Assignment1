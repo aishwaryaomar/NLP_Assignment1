{
  "cells": [
    {
      "cell_type": "code",
      "execution_count": null,
      "id": "affa0d28",
      "metadata": {
        "id": "affa0d28",
        "outputId": "9a3d6c36-5c76-48e5-e5c3-b85a69ac6207"
      },
      "outputs": [
        {
          "name": "stdout",
          "output_type": "stream",
          "text": [
            "Display Name: bangladesh\n",
            "Title: Bangladesh\n",
            "Description: ###[DARK MODE](http://dm.reddit.com/r/bangladesh)\n",
            "###[NORMAL THEME](http://www.reddit.com/r/bangladesh)\n",
            "***\n",
            "\n",
            "#### [WIKI](https://www.reddit.com/r/bangladesh/wiki/navigationrules/#wiki_rules)\n",
            "\n",
            "##Rules\n",
            "\n",
            "* **Rule 1:** Follow Reddiquette: Do NOT harass/abuse/troll other users. No brigading. No bigotry.\n",
            "\n",
            "* **Rule 2:** No editorialising: Use descriptive titles for self submissions and links\n",
            "\n",
            "* **Rule 3:** No advertising, personal branding or promoted/sponsored content\n",
            "\n",
            "* **Rule 4:** Photo submissions require verifiable source links/specification of OC. No NSFW/NSFL images allowed.\n",
            "\n",
            "* **Rule 5:** Good quality relevant memes ONLY! Also goes for content to be relevant; quality not quantity.\n",
            "\n",
            "* **Rule 6:** Do NOT DM/reddit chat mods. Use modmail or report option.\n",
            "\n",
            "* **Rule 7:** No Meta Posts. No r4r posts.\n",
            "\n",
            "* **Rule 8:** Read the Guidelines [here.](https://www.reddit.com/r/bangladesh/wiki/navigationrules/#wiki_rules)\n",
            "\n",
            "##General Guidelines\n",
            "\n",
            "* Follow [reddiquette.](http://www.reddit.com/wiki/reddiquette)\n",
            "* Be courteous.\n",
            "* Don't spam.\n",
            "* Don't self-promote without any subreddit contribution.\n",
            "* Flair and add source for your post. Add [OC] in title if you are the creator of image posts.\n",
            "* You should have at least 5 karma in order to submit a post. Otherwise, it will get caught in our filter, but we will get around to clearing these out.\n",
            "* Feel free to create scheduled threads if you want to.\n",
            "\n",
            "##Related subreddits\n",
            "* r/MetaBangladesh \n",
            "* r/bengalilanguage \n",
            "* r/Dhaka\n",
            "* r/Chittagong \n",
            "* r/WestBengal \n",
            "* r/SouthAsianHistory\n",
            "* r/SouthAsianArt\n",
            "* r/OldIndia \n",
            "* r/kolkata \n",
            "* r/ABCDesis\n",
            "* r/Bideshi_Deshi\n",
            "* r/TwoXBengali\n",
            "\n",
            "##Neighbouring Subreddits\n",
            "\n",
            "* r/India\n",
            "* r/Myanmar or r/Burma\n"
          ]
        }
      ],
      "source": [
        "import praw\n",
        "\n",
        "# Initialize Reddit instance\n",
        "reddit = praw.Reddit(\n",
        "    client_id=\"A0shhVWnD2ixWSByzgYcMQ\",         # your client id\n",
        "    client_secret=\"AO3QK1PWMSnQ_JtGOafBueN7a9QZxQ\", # your client secret\n",
        "    user_agent=\"nlp-test\"                     # your user agent\n",
        ")\n",
        "\n",
        "# Get subreddit information\n",
        "subreddit = reddit.subreddit(\"bangladesh\")\n",
        "\n",
        "# Display the name of the Subreddit\n",
        "print(\"Display Name:\", subreddit.display_name)\n",
        "\n",
        "# Display the title of the Subreddit\n",
        "print(\"Title:\", subreddit.title)\n",
        "\n",
        "# Display the description of the Subreddit\n",
        "print(\"Description:\", subreddit.description)\n",
        "\n",
        "\n"
      ]
    },
    {
      "cell_type": "code",
      "execution_count": null,
      "id": "50e10dfd",
      "metadata": {
        "id": "50e10dfd"
      },
      "outputs": [],
      "source": [
        "import praw\n",
        "import pandas as pd\n",
        "\n",
        "# Initialize Reddit instance\n",
        "reddit = praw.Reddit(\n",
        "    client_id=\"A0shhVWnD2ixWSByzgYcMQ\",         # your client id\n",
        "    client_secret=\"AO3QK1PWMSnQ_JtGOafBueN7a9QZxQ\", # your client secret\n",
        "    user_agent=\"nlp-test\"                     # your user agent\n",
        ")\n",
        "\n",
        "# Get subreddit information\n",
        "subreddit = reddit.subreddit(\"bangladesh\")\n",
        "\n",
        "# Get the top 100 posts from the subreddit\n",
        "top_posts = subreddit.hot(limit=100)\n",
        "\n",
        "# Create a list to store post data\n",
        "posts_data = []\n",
        "\n",
        "# Loop through the top posts and collect data\n",
        "for post in top_posts:\n",
        "    post_data = {\n",
        "        \"Title\": post.title,\n",
        "        \"Author\": post.author.name if post.author else \"N/A\",\n",
        "        \"Score\": post.score,\n",
        "        \"Number of Comments\": post.num_comments,\n",
        "        \"Comments\": []  # Initialize an empty list for comments\n",
        "    }\n",
        "\n",
        "    # Fetch comments for the post\n",
        "    post.comments.replace_more(limit=None)\n",
        "    for comment in post.comments.list():\n",
        "        post_data[\"Comments\"].append(comment.body)\n",
        "\n",
        "    posts_data.append(post_data)\n",
        "\n",
        "# Create a DataFrame from the collected data\n",
        "df3  = pd.DataFrame(posts_data)\n",
        "\n",
        "# Display the DataFrame\n",
        "\n"
      ]
    },
    {
      "cell_type": "code",
      "execution_count": null,
      "id": "fd3b251e",
      "metadata": {
        "id": "fd3b251e"
      },
      "outputs": [],
      "source": [
        "df"
      ]
    },
    {
      "cell_type": "code",
      "execution_count": null,
      "id": "c175ecb8",
      "metadata": {
        "id": "c175ecb8"
      },
      "outputs": [],
      "source": [
        "csv_filename = \"reddit_posts_and_comments.csv\"\n",
        "df.to_csv(csv_filename, index=False)"
      ]
    },
    {
      "cell_type": "code",
      "execution_count": null,
      "id": "84f8543d",
      "metadata": {
        "id": "84f8543d"
      },
      "outputs": [],
      "source": [
        "dff= pd.read_csv(\"reddit_posts_and_comments.csv\")"
      ]
    },
    {
      "cell_type": "code",
      "execution_count": null,
      "id": "23a413b1",
      "metadata": {
        "id": "23a413b1",
        "outputId": "1036982e-33d1-4398-a01b-47d48c3b03a4"
      },
      "outputs": [
        {
          "data": {
            "text/html": [
              "<div>\n",
              "<style scoped>\n",
              "    .dataframe tbody tr th:only-of-type {\n",
              "        vertical-align: middle;\n",
              "    }\n",
              "\n",
              "    .dataframe tbody tr th {\n",
              "        vertical-align: top;\n",
              "    }\n",
              "\n",
              "    .dataframe thead th {\n",
              "        text-align: right;\n",
              "    }\n",
              "</style>\n",
              "<table border=\"1\" class=\"dataframe\">\n",
              "  <thead>\n",
              "    <tr style=\"text-align: right;\">\n",
              "      <th></th>\n",
              "      <th>Title</th>\n",
              "      <th>Author</th>\n",
              "      <th>Score</th>\n",
              "      <th>Number of Comments</th>\n",
              "      <th>Comments</th>\n",
              "    </tr>\n",
              "  </thead>\n",
              "  <tbody>\n",
              "    <tr>\n",
              "      <th>0</th>\n",
              "      <td>How You Can Help (Please Read)</td>\n",
              "      <td>NaN</td>\n",
              "      <td>8977</td>\n",
              "      <td>398</td>\n",
              "      <td>['For anyone trying to report this on Facebook...</td>\n",
              "    </tr>\n",
              "    <tr>\n",
              "      <th>1</th>\n",
              "      <td>PM of Bangladesh. She prides herself for being...</td>\n",
              "      <td>NaN</td>\n",
              "      <td>1292</td>\n",
              "      <td>102</td>\n",
              "      <td>[\"According to the country's history, their wa...</td>\n",
              "    </tr>\n",
              "    <tr>\n",
              "      <th>2</th>\n",
              "      <td>A reporter in Bangladesh gets beaten with meta...</td>\n",
              "      <td>NaN</td>\n",
              "      <td>1216</td>\n",
              "      <td>37</td>\n",
              "      <td>['What happened to the person who took this ph...</td>\n",
              "    </tr>\n",
              "    <tr>\n",
              "      <th>3</th>\n",
              "      <td>Student Protests Links &amp; Discussion Megathread</td>\n",
              "      <td>rambobilai</td>\n",
              "      <td>1065</td>\n",
              "      <td>389</td>\n",
              "      <td>['BCL, BSL are taking away cameras from specta...</td>\n",
              "    </tr>\n",
              "    <tr>\n",
              "      <th>4</th>\n",
              "      <td>Student protesters eyes were gouged out by thu...</td>\n",
              "      <td>QuantumOfSilence</td>\n",
              "      <td>1015</td>\n",
              "      <td>90</td>\n",
              "      <td>['[deleted]', 'That reporter woman in purple i...</td>\n",
              "    </tr>\n",
              "    <tr>\n",
              "      <th>...</th>\n",
              "      <td>...</td>\n",
              "      <td>...</td>\n",
              "      <td>...</td>\n",
              "      <td>...</td>\n",
              "      <td>...</td>\n",
              "    </tr>\n",
              "    <tr>\n",
              "      <th>95</th>\n",
              "      <td>কলা লাগবে না চাচা, একখান হাঁসি দেন তো!</td>\n",
              "      <td>ArifHossain_</td>\n",
              "      <td>321</td>\n",
              "      <td>10</td>\n",
              "      <td>[\"Chacha's smile made my day!\", 'lok tare deik...</td>\n",
              "    </tr>\n",
              "    <tr>\n",
              "      <th>96</th>\n",
              "      <td>Awami League ke kichu bollei BNP hoyna bhaai</td>\n",
              "      <td>NaN</td>\n",
              "      <td>323</td>\n",
              "      <td>71</td>\n",
              "      <td>['when you speak against Awami then obaidul qa...</td>\n",
              "    </tr>\n",
              "    <tr>\n",
              "      <th>97</th>\n",
              "      <td>Pakistani Author, Anam Zakaria, on how Racial ...</td>\n",
              "      <td>weallfalldown123</td>\n",
              "      <td>320</td>\n",
              "      <td>80</td>\n",
              "      <td>[\"locking this thread because you all can't be...</td>\n",
              "    </tr>\n",
              "    <tr>\n",
              "      <th>98</th>\n",
              "      <td>মীর মশাররফ হোসেন হল, জাহাঙ্গীরনগর বিশ্ববিদ্যালয়</td>\n",
              "      <td>OmarFaruq3110</td>\n",
              "      <td>320</td>\n",
              "      <td>17</td>\n",
              "      <td>['[deleted]', '[removed]', 'reminds me of blac...</td>\n",
              "    </tr>\n",
              "    <tr>\n",
              "      <th>99</th>\n",
              "      <td>Dhaka, what are you doing Dhaka?</td>\n",
              "      <td>dumb-bangladeshi</td>\n",
              "      <td>318</td>\n",
              "      <td>54</td>\n",
              "      <td>[\"People’s Republic of Bangladesh? Morelike We...</td>\n",
              "    </tr>\n",
              "  </tbody>\n",
              "</table>\n",
              "<p>100 rows × 5 columns</p>\n",
              "</div>"
            ],
            "text/plain": [
              "                                                Title            Author  \\\n",
              "0                      How You Can Help (Please Read)               NaN   \n",
              "1   PM of Bangladesh. She prides herself for being...               NaN   \n",
              "2   A reporter in Bangladesh gets beaten with meta...               NaN   \n",
              "3      Student Protests Links & Discussion Megathread        rambobilai   \n",
              "4   Student protesters eyes were gouged out by thu...  QuantumOfSilence   \n",
              "..                                                ...               ...   \n",
              "95             কলা লাগবে না চাচা, একখান হাঁসি দেন তো!      ArifHossain_   \n",
              "96       Awami League ke kichu bollei BNP hoyna bhaai               NaN   \n",
              "97  Pakistani Author, Anam Zakaria, on how Racial ...  weallfalldown123   \n",
              "98    মীর মশাররফ হোসেন হল, জাহাঙ্গীরনগর বিশ্ববিদ্যালয়     OmarFaruq3110   \n",
              "99                   Dhaka, what are you doing Dhaka?  dumb-bangladeshi   \n",
              "\n",
              "    Score  Number of Comments  \\\n",
              "0    8977                 398   \n",
              "1    1292                 102   \n",
              "2    1216                  37   \n",
              "3    1065                 389   \n",
              "4    1015                  90   \n",
              "..    ...                 ...   \n",
              "95    321                  10   \n",
              "96    323                  71   \n",
              "97    320                  80   \n",
              "98    320                  17   \n",
              "99    318                  54   \n",
              "\n",
              "                                             Comments  \n",
              "0   ['For anyone trying to report this on Facebook...  \n",
              "1   [\"According to the country's history, their wa...  \n",
              "2   ['What happened to the person who took this ph...  \n",
              "3   ['BCL, BSL are taking away cameras from specta...  \n",
              "4   ['[deleted]', 'That reporter woman in purple i...  \n",
              "..                                                ...  \n",
              "95  [\"Chacha's smile made my day!\", 'lok tare deik...  \n",
              "96  ['when you speak against Awami then obaidul qa...  \n",
              "97  [\"locking this thread because you all can't be...  \n",
              "98  ['[deleted]', '[removed]', 'reminds me of blac...  \n",
              "99  [\"People’s Republic of Bangladesh? Morelike We...  \n",
              "\n",
              "[100 rows x 5 columns]"
            ]
          },
          "execution_count": 25,
          "metadata": {},
          "output_type": "execute_result"
        }
      ],
      "source": [
        "dff"
      ]
    },
    {
      "cell_type": "code",
      "execution_count": null,
      "id": "0ef98a90",
      "metadata": {
        "id": "0ef98a90"
      },
      "outputs": [],
      "source": [
        "subreddit = reddit.subreddit(\"bangladesh\")\n",
        "\n",
        "\n",
        "top_posts = subreddit.top(limit=100)\n",
        "all_comments = []\n",
        "\n",
        "# Loop through the top posts and collect comments\n",
        "for post in top_posts:\n",
        "    # Fetch comments for the post\n",
        "    post.comments.replace_more(limit=None)\n",
        "    for comment in post.comments.list():\n",
        "        all_comments.append(comment.body)\n",
        "\n",
        "# Create a DataFrame from the list of comments\n",
        "df_comments = pd.DataFrame({\"Comments\": all_comments})"
      ]
    },
    {
      "cell_type": "code",
      "execution_count": null,
      "id": "09637948",
      "metadata": {
        "id": "09637948"
      },
      "outputs": [],
      "source": [
        "df_comments"
      ]
    },
    {
      "cell_type": "code",
      "execution_count": null,
      "id": "887e7278",
      "metadata": {
        "id": "887e7278"
      },
      "outputs": [],
      "source": [
        "csv_filename = \"reddit_comments.csv\"\n",
        "df_comments.to_csv(csv_filename, index=False)"
      ]
    },
    {
      "cell_type": "code",
      "execution_count": null,
      "id": "31473a8e",
      "metadata": {
        "id": "31473a8e"
      },
      "outputs": [],
      "source": [
        "dfc= pd.read_csv(\"reddit_comments.csv\")"
      ]
    },
    {
      "cell_type": "code",
      "execution_count": null,
      "id": "1cb9f173",
      "metadata": {
        "id": "1cb9f173",
        "outputId": "d518e910-fd4b-4a96-a510-433ab6b9cb42"
      },
      "outputs": [
        {
          "data": {
            "text/html": [
              "<div>\n",
              "<style scoped>\n",
              "    .dataframe tbody tr th:only-of-type {\n",
              "        vertical-align: middle;\n",
              "    }\n",
              "\n",
              "    .dataframe tbody tr th {\n",
              "        vertical-align: top;\n",
              "    }\n",
              "\n",
              "    .dataframe thead th {\n",
              "        text-align: right;\n",
              "    }\n",
              "</style>\n",
              "<table border=\"1\" class=\"dataframe\">\n",
              "  <thead>\n",
              "    <tr style=\"text-align: right;\">\n",
              "      <th></th>\n",
              "      <th>Comments</th>\n",
              "    </tr>\n",
              "  </thead>\n",
              "  <tbody>\n",
              "    <tr>\n",
              "      <th>0</th>\n",
              "      <td>For anyone trying to report this on Facebook: ...</td>\n",
              "    </tr>\n",
              "    <tr>\n",
              "      <th>1</th>\n",
              "      <td>I would also suggest those that live overseas,...</td>\n",
              "    </tr>\n",
              "    <tr>\n",
              "      <th>2</th>\n",
              "      <td>There's an app called FireChat that will allow...</td>\n",
              "    </tr>\n",
              "    <tr>\n",
              "      <th>3</th>\n",
              "      <td>Please use this thread if you know of any way ...</td>\n",
              "    </tr>\n",
              "    <tr>\n",
              "      <th>4</th>\n",
              "      <td>Gilded to help boost OP's post.\\n\\nI highly re...</td>\n",
              "    </tr>\n",
              "    <tr>\n",
              "      <th>...</th>\n",
              "      <td>...</td>\n",
              "    </tr>\n",
              "    <tr>\n",
              "      <th>5785</th>\n",
              "      <td>XD as a non-Dhakaiyan I can assure you, I don'...</td>\n",
              "    </tr>\n",
              "    <tr>\n",
              "      <th>5786</th>\n",
              "      <td>I used to hear handling mara in school but now...</td>\n",
              "    </tr>\n",
              "    <tr>\n",
              "      <th>5787</th>\n",
              "      <td>Yes bro.</td>\n",
              "    </tr>\n",
              "    <tr>\n",
              "      <th>5788</th>\n",
              "      <td>LOL I was kidding man. I wanted my post to loo...</td>\n",
              "    </tr>\n",
              "    <tr>\n",
              "      <th>5789</th>\n",
              "      <td>I feel dumb</td>\n",
              "    </tr>\n",
              "  </tbody>\n",
              "</table>\n",
              "<p>5790 rows × 1 columns</p>\n",
              "</div>"
            ],
            "text/plain": [
              "                                               Comments\n",
              "0     For anyone trying to report this on Facebook: ...\n",
              "1     I would also suggest those that live overseas,...\n",
              "2     There's an app called FireChat that will allow...\n",
              "3     Please use this thread if you know of any way ...\n",
              "4     Gilded to help boost OP's post.\\n\\nI highly re...\n",
              "...                                                 ...\n",
              "5785  XD as a non-Dhakaiyan I can assure you, I don'...\n",
              "5786  I used to hear handling mara in school but now...\n",
              "5787                                           Yes bro.\n",
              "5788  LOL I was kidding man. I wanted my post to loo...\n",
              "5789                                        I feel dumb\n",
              "\n",
              "[5790 rows x 1 columns]"
            ]
          },
          "execution_count": 34,
          "metadata": {},
          "output_type": "execute_result"
        }
      ],
      "source": [
        "dfc"
      ]
    },
    {
      "cell_type": "code",
      "execution_count": null,
      "id": "f62a122e",
      "metadata": {
        "colab": {
          "referenced_widgets": [
            "861783f1d645494e9a554e4522ad286d",
            "fd7e9557466d4cf480722d859b0ce1be",
            "b71870ff81f94169828ecadeb6086453",
            "8e9500ef9814430abaa753a6ec6472af",
            "5e144ae68a384e8abac55939f1ea32ac"
          ]
        },
        "id": "f62a122e",
        "outputId": "733c0e04-2b10-473f-fe91-02b8378956a5"
      },
      "outputs": [
        {
          "data": {
            "application/vnd.jupyter.widget-view+json": {
              "model_id": "861783f1d645494e9a554e4522ad286d",
              "version_major": 2,
              "version_minor": 0
            },
            "text/plain": [
              "Downloading (…)lve/main/config.json:   0%|          | 0.00/929 [00:00<?, ?B/s]"
            ]
          },
          "metadata": {},
          "output_type": "display_data"
        },
        {
          "name": "stderr",
          "output_type": "stream",
          "text": [
            "C:\\Users\\ingal\\AppData\\Local\\Programs\\Python\\Python310\\lib\\site-packages\\huggingface_hub\\file_download.py:133: UserWarning: `huggingface_hub` cache-system uses symlinks by default to efficiently store duplicated files but your machine does not support them in C:\\Users\\ingal\\.cache\\huggingface\\hub. Caching files will still work but in a degraded version that might require more space on your disk. This warning can be disabled by setting the `HF_HUB_DISABLE_SYMLINKS_WARNING` environment variable. For more details, see https://huggingface.co/docs/huggingface_hub/how-to-cache#limitations.\n",
            "To support symlinks on Windows, you either need to activate Developer Mode or to run Python as an administrator. In order to see activate developer mode, see this article: https://docs.microsoft.com/en-us/windows/apps/get-started/enable-your-device-for-development\n",
            "  warnings.warn(message)\n"
          ]
        },
        {
          "data": {
            "application/vnd.jupyter.widget-view+json": {
              "model_id": "fd7e9557466d4cf480722d859b0ce1be",
              "version_major": 2,
              "version_minor": 0
            },
            "text/plain": [
              "Downloading tf_model.h5:   0%|          | 0.00/499M [00:00<?, ?B/s]"
            ]
          },
          "metadata": {},
          "output_type": "display_data"
        },
        {
          "name": "stderr",
          "output_type": "stream",
          "text": [
            "All model checkpoint layers were used when initializing TFRobertaForSequenceClassification.\n",
            "\n",
            "Some layers of TFRobertaForSequenceClassification were not initialized from the model checkpoint at cardiffnlp/twitter-roberta-base-sentiment-latest and are newly initialized: ['classifier']\n",
            "You should probably TRAIN this model on a down-stream task to be able to use it for predictions and inference.\n"
          ]
        },
        {
          "data": {
            "application/vnd.jupyter.widget-view+json": {
              "model_id": "b71870ff81f94169828ecadeb6086453",
              "version_major": 2,
              "version_minor": 0
            },
            "text/plain": [
              "Downloading (…)olve/main/vocab.json:   0%|          | 0.00/899k [00:00<?, ?B/s]"
            ]
          },
          "metadata": {},
          "output_type": "display_data"
        },
        {
          "data": {
            "application/vnd.jupyter.widget-view+json": {
              "model_id": "8e9500ef9814430abaa753a6ec6472af",
              "version_major": 2,
              "version_minor": 0
            },
            "text/plain": [
              "Downloading (…)olve/main/merges.txt:   0%|          | 0.00/456k [00:00<?, ?B/s]"
            ]
          },
          "metadata": {},
          "output_type": "display_data"
        },
        {
          "data": {
            "application/vnd.jupyter.widget-view+json": {
              "model_id": "5e144ae68a384e8abac55939f1ea32ac",
              "version_major": 2,
              "version_minor": 0
            },
            "text/plain": [
              "Downloading (…)cial_tokens_map.json:   0%|          | 0.00/239 [00:00<?, ?B/s]"
            ]
          },
          "metadata": {},
          "output_type": "display_data"
        },
        {
          "name": "stdout",
          "output_type": "stream",
          "text": [
            "[{'label': 'negative', 'score': 0.36613333225250244}]\n"
          ]
        }
      ],
      "source": [
        "from transformers import pipeline\n",
        "\n",
        "# Load the sentiment analysis pipeline with the specified model\n",
        "sentiment_task = pipeline(\"sentiment-analysis\", model=\"cardiffnlp/twitter-roberta-base-sentiment-latest\")\n",
        "\n",
        "# Perform sentiment analysis on a text\n",
        "text = \"Covid cases are increasing fast!\"\n",
        "result = sentiment_task(text)\n",
        "\n",
        "# Print the sentiment prediction result\n",
        "print(result)\n"
      ]
    },
    {
      "cell_type": "code",
      "execution_count": null,
      "id": "8f519778",
      "metadata": {
        "id": "8f519778",
        "outputId": "0ff29837-c2a1-4f19-d69f-1352f25fcfd6"
      },
      "outputs": [
        {
          "name": "stderr",
          "output_type": "stream",
          "text": [
            "All model checkpoint layers were used when initializing TFRobertaForSequenceClassification.\n",
            "\n",
            "All the layers of TFRobertaForSequenceClassification were initialized from the model checkpoint at finiteautomata/bertweet-base-sentiment-analysis.\n",
            "If your task is similar to the task the model of the checkpoint was trained on, you can already use TFRobertaForSequenceClassification for predictions without further training.\n",
            "emoji is not installed, thus not converting emoticons or emojis into text. Install emoji: pip3 install emoji==0.6.0\n"
          ]
        },
        {
          "name": "stdout",
          "output_type": "stream",
          "text": [
            "                                               Comments Sentiment_2\n",
            "0     For anyone trying to report this on Facebook: ...         NEG\n",
            "1     I would also suggest those that live overseas,...         NEU\n",
            "2     There's an app called FireChat that will allow...         POS\n",
            "3     Please use this thread if you know of any way ...         NEU\n",
            "4     Gilded to help boost OP's post.\\n\\nI highly re...         POS\n",
            "...                                                 ...         ...\n",
            "5785  XD as a non-Dhakaiyan I can assure you, I don'...         NEU\n",
            "5786  I used to hear handling mara in school but now...         NEU\n",
            "5787                                           Yes bro.         NEU\n",
            "5788  LOL I was kidding man. I wanted my post to loo...         POS\n",
            "5789                                        I feel dumb         NEG\n",
            "\n",
            "[5790 rows x 2 columns]\n"
          ]
        }
      ],
      "source": [
        "from transformers import pipeline\n",
        "import pandas as pd\n",
        "from collections import Counter\n",
        "\n",
        "# Load the sentiment analysis pipelines with the specified models\n",
        "\n",
        "sentiment_task2 = pipeline(\"sentiment-analysis\", model=\"finiteautomata/bertweet-base-sentiment-analysis\")\n",
        "\n",
        "# Load the DataFrame containing comments\n",
        "df_comments = pd.read_csv(\"reddit_comments.csv\")  # Replace with your file path\n",
        "\n",
        "# Analyze each comment and get sentiment labels using both models\n",
        "\n",
        "sentiments2 = []\n",
        "\n",
        "for comment in df_comments[\"Comments\"]:\n",
        "    # Truncate the comment to fit within the model's maximum sequence length\n",
        "    truncated_comment = comment[:128]\n",
        "\n",
        "\n",
        "    result2 = sentiment_task2(truncated_comment)\n",
        "    s2 = result2[0][\"label\"]\n",
        "    sentiments2.append(s2)\n",
        "\n",
        "# Add sentiment columns to the DataFrame\n",
        "\n",
        "df_comments[\"Sentiment_2\"] = sentiments2\n",
        "\n",
        "# Display the DataFrame with sentiment analysis results\n",
        "print(df_comments)\n"
      ]
    },
    {
      "cell_type": "code",
      "execution_count": null,
      "id": "49b6d913",
      "metadata": {
        "id": "49b6d913",
        "outputId": "ad793da0-8b52-4dd1-be85-02294946aa1e"
      },
      "outputs": [
        {
          "data": {
            "text/html": [
              "<div>\n",
              "<style scoped>\n",
              "    .dataframe tbody tr th:only-of-type {\n",
              "        vertical-align: middle;\n",
              "    }\n",
              "\n",
              "    .dataframe tbody tr th {\n",
              "        vertical-align: top;\n",
              "    }\n",
              "\n",
              "    .dataframe thead th {\n",
              "        text-align: right;\n",
              "    }\n",
              "</style>\n",
              "<table border=\"1\" class=\"dataframe\">\n",
              "  <thead>\n",
              "    <tr style=\"text-align: right;\">\n",
              "      <th></th>\n",
              "      <th>Comments</th>\n",
              "      <th>Sentiment_2</th>\n",
              "    </tr>\n",
              "  </thead>\n",
              "  <tbody>\n",
              "    <tr>\n",
              "      <th>0</th>\n",
              "      <td>For anyone trying to report this on Facebook: ...</td>\n",
              "      <td>NEG</td>\n",
              "    </tr>\n",
              "    <tr>\n",
              "      <th>1</th>\n",
              "      <td>I would also suggest those that live overseas,...</td>\n",
              "      <td>NEU</td>\n",
              "    </tr>\n",
              "    <tr>\n",
              "      <th>2</th>\n",
              "      <td>There's an app called FireChat that will allow...</td>\n",
              "      <td>POS</td>\n",
              "    </tr>\n",
              "    <tr>\n",
              "      <th>3</th>\n",
              "      <td>Please use this thread if you know of any way ...</td>\n",
              "      <td>NEU</td>\n",
              "    </tr>\n",
              "    <tr>\n",
              "      <th>4</th>\n",
              "      <td>Gilded to help boost OP's post.\\n\\nI highly re...</td>\n",
              "      <td>POS</td>\n",
              "    </tr>\n",
              "    <tr>\n",
              "      <th>...</th>\n",
              "      <td>...</td>\n",
              "      <td>...</td>\n",
              "    </tr>\n",
              "    <tr>\n",
              "      <th>5785</th>\n",
              "      <td>XD as a non-Dhakaiyan I can assure you, I don'...</td>\n",
              "      <td>NEU</td>\n",
              "    </tr>\n",
              "    <tr>\n",
              "      <th>5786</th>\n",
              "      <td>I used to hear handling mara in school but now...</td>\n",
              "      <td>NEU</td>\n",
              "    </tr>\n",
              "    <tr>\n",
              "      <th>5787</th>\n",
              "      <td>Yes bro.</td>\n",
              "      <td>NEU</td>\n",
              "    </tr>\n",
              "    <tr>\n",
              "      <th>5788</th>\n",
              "      <td>LOL I was kidding man. I wanted my post to loo...</td>\n",
              "      <td>POS</td>\n",
              "    </tr>\n",
              "    <tr>\n",
              "      <th>5789</th>\n",
              "      <td>I feel dumb</td>\n",
              "      <td>NEG</td>\n",
              "    </tr>\n",
              "  </tbody>\n",
              "</table>\n",
              "<p>5790 rows × 2 columns</p>\n",
              "</div>"
            ],
            "text/plain": [
              "                                               Comments Sentiment_2\n",
              "0     For anyone trying to report this on Facebook: ...         NEG\n",
              "1     I would also suggest those that live overseas,...         NEU\n",
              "2     There's an app called FireChat that will allow...         POS\n",
              "3     Please use this thread if you know of any way ...         NEU\n",
              "4     Gilded to help boost OP's post.\\n\\nI highly re...         POS\n",
              "...                                                 ...         ...\n",
              "5785  XD as a non-Dhakaiyan I can assure you, I don'...         NEU\n",
              "5786  I used to hear handling mara in school but now...         NEU\n",
              "5787                                           Yes bro.         NEU\n",
              "5788  LOL I was kidding man. I wanted my post to loo...         POS\n",
              "5789                                        I feel dumb         NEG\n",
              "\n",
              "[5790 rows x 2 columns]"
            ]
          },
          "execution_count": 5,
          "metadata": {},
          "output_type": "execute_result"
        }
      ],
      "source": [
        "csv_filename = \"reddit_commentsm2.csv\"\n",
        "df_comments.to_csv(csv_filename, index=False)\n",
        "dfg= pd.read_csv(\"reddit_commentsm2.csv\")\n",
        "dfg"
      ]
    },
    {
      "cell_type": "code",
      "execution_count": null,
      "id": "09c9b5da",
      "metadata": {
        "id": "09c9b5da"
      },
      "outputs": [],
      "source": []
    }
  ],
  "metadata": {
    "kernelspec": {
      "display_name": "Python 3 (ipykernel)",
      "language": "python",
      "name": "python3"
    },
    "language_info": {
      "codemirror_mode": {
        "name": "ipython",
        "version": 3
      },
      "file_extension": ".py",
      "mimetype": "text/x-python",
      "name": "python",
      "nbconvert_exporter": "python",
      "pygments_lexer": "ipython3",
      "version": "3.10.4"
    },
    "colab": {
      "provenance": []
    }
  },
  "nbformat": 4,
  "nbformat_minor": 5
}