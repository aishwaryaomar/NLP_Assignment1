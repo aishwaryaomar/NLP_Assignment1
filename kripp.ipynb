{
 "cells": [
  {
   "cell_type": "code",
   "execution_count": 5,
   "id": "c00db06e",
   "metadata": {},
   "outputs": [],
   "source": [
    "import pandas as pd\n",
    "\n",
    "annotator1_data = pd.read_csv('23120007_labels - my_results.csv')\n",
    "annotator2_data = pd.read_csv('amaan _20110011.csv')\n",
    "annotator3_data = pd.read_csv('annotat_20110200.csv')"
   ]
  },
  {
   "cell_type": "code",
   "execution_count": 9,
   "id": "54697cac",
   "metadata": {},
   "outputs": [
    {
     "data": {
      "text/html": [
       "<div>\n",
       "<style scoped>\n",
       "    .dataframe tbody tr th:only-of-type {\n",
       "        vertical-align: middle;\n",
       "    }\n",
       "\n",
       "    .dataframe tbody tr th {\n",
       "        vertical-align: top;\n",
       "    }\n",
       "\n",
       "    .dataframe thead th {\n",
       "        text-align: right;\n",
       "    }\n",
       "</style>\n",
       "<table border=\"1\" class=\"dataframe\">\n",
       "  <thead>\n",
       "    <tr style=\"text-align: right;\">\n",
       "      <th></th>\n",
       "      <th>Comments</th>\n",
       "      <th>Label</th>\n",
       "    </tr>\n",
       "  </thead>\n",
       "  <tbody>\n",
       "    <tr>\n",
       "      <th>0</th>\n",
       "      <td>Elon Musk set us all up to see him as a heroic...</td>\n",
       "      <td>-1</td>\n",
       "    </tr>\n",
       "    <tr>\n",
       "      <th>1</th>\n",
       "      <td>AL politician admits to beating children on Na...</td>\n",
       "      <td>-1</td>\n",
       "    </tr>\n",
       "    <tr>\n",
       "      <th>2</th>\n",
       "      <td>NID chara Hobe na vaccine nawa jabe na? :/ Tha...</td>\n",
       "      <td>0</td>\n",
       "    </tr>\n",
       "    <tr>\n",
       "      <th>3</th>\n",
       "      <td>I know right? HOW COULD THEY</td>\n",
       "      <td>-1</td>\n",
       "    </tr>\n",
       "    <tr>\n",
       "      <th>4</th>\n",
       "      <td>Among us homies india is the most hated one.</td>\n",
       "      <td>-1</td>\n",
       "    </tr>\n",
       "    <tr>\n",
       "      <th>...</th>\n",
       "      <td>...</td>\n",
       "      <td>...</td>\n",
       "    </tr>\n",
       "    <tr>\n",
       "      <th>97</th>\n",
       "      <td>💯 agreed</td>\n",
       "      <td>1</td>\n",
       "    </tr>\n",
       "    <tr>\n",
       "      <th>98</th>\n",
       "      <td>Oh- even better!!!! Than countries like Indone...</td>\n",
       "      <td>1</td>\n",
       "    </tr>\n",
       "    <tr>\n",
       "      <th>99</th>\n",
       "      <td>Great work! Hope your cousin keeps it up.</td>\n",
       "      <td>1</td>\n",
       "    </tr>\n",
       "    <tr>\n",
       "      <th>100</th>\n",
       "      <td>much needed in this time... \\n\\nPray for Bangl...</td>\n",
       "      <td>1</td>\n",
       "    </tr>\n",
       "    <tr>\n",
       "      <th>101</th>\n",
       "      <td>He was right indeed.</td>\n",
       "      <td>1</td>\n",
       "    </tr>\n",
       "  </tbody>\n",
       "</table>\n",
       "<p>102 rows × 2 columns</p>\n",
       "</div>"
      ],
      "text/plain": [
       "                                              Comments  Label\n",
       "0    Elon Musk set us all up to see him as a heroic...     -1\n",
       "1    AL politician admits to beating children on Na...     -1\n",
       "2    NID chara Hobe na vaccine nawa jabe na? :/ Tha...      0\n",
       "3                         I know right? HOW COULD THEY     -1\n",
       "4         Among us homies india is the most hated one.     -1\n",
       "..                                                 ...    ...\n",
       "97                                            💯 agreed      1\n",
       "98   Oh- even better!!!! Than countries like Indone...      1\n",
       "99           Great work! Hope your cousin keeps it up.      1\n",
       "100  much needed in this time... \\n\\nPray for Bangl...      1\n",
       "101                               He was right indeed.      1\n",
       "\n",
       "[102 rows x 2 columns]"
      ]
     },
     "execution_count": 9,
     "metadata": {},
     "output_type": "execute_result"
    }
   ],
   "source": [
    "annotator1_data"
   ]
  },
  {
   "cell_type": "code",
   "execution_count": 10,
   "id": "3472197e",
   "metadata": {},
   "outputs": [
    {
     "name": "stdout",
     "output_type": "stream",
     "text": [
      "Krippendorff's alpha: 0.5017860668832683\n"
     ]
    }
   ],
   "source": [
    "from krippendorff  import alpha\n",
    "\n",
    "\n",
    "data = [annotator1_data['Label'], annotator2_data['label'], annotator3_data['Sentiment']]\n",
    "\n",
    "\n",
    "alpha_value = alpha(data, level_of_measurement='interval')\n",
    "print(\"Krippendorff's alpha:\", alpha_value)"
   ]
  },
  {
   "cell_type": "code",
   "execution_count": null,
   "id": "d37a8c59",
   "metadata": {},
   "outputs": [],
   "source": []
  }
 ],
 "metadata": {
  "kernelspec": {
   "display_name": "Python 3 (ipykernel)",
   "language": "python",
   "name": "python3"
  },
  "language_info": {
   "codemirror_mode": {
    "name": "ipython",
    "version": 3
   },
   "file_extension": ".py",
   "mimetype": "text/x-python",
   "name": "python",
   "nbconvert_exporter": "python",
   "pygments_lexer": "ipython3",
   "version": "3.10.4"
  }
 },
 "nbformat": 4,
 "nbformat_minor": 5
}
